{
  "nbformat": 4,
  "nbformat_minor": 0,
  "metadata": {
    "colab": {
      "provenance": [],
      "authorship_tag": "ABX9TyN+Ck//XfyIhk8HappjOGNC",
      "include_colab_link": true
    },
    "kernelspec": {
      "name": "python3",
      "display_name": "Python 3"
    },
    "language_info": {
      "name": "python"
    }
  },
  "cells": [
    {
      "cell_type": "markdown",
      "metadata": {
        "id": "view-in-github",
        "colab_type": "text"
      },
      "source": [
        "<a href=\"https://colab.research.google.com/github/vinayyy-07/HDLC-internship/blob/main/Week1.ipynb\" target=\"_parent\"><img src=\"https://colab.research.google.com/assets/colab-badge.svg\" alt=\"Open In Colab\"/></a>"
      ]
    },
    {
      "cell_type": "markdown",
      "source": [
        "Question 1"
      ],
      "metadata": {
        "id": "vRm5S6PLRa9_"
      }
    },
    {
      "cell_type": "code",
      "source": [
        "import pandas as pd\n",
        "import numpy as nu\n",
        "d={\"c1\":[10,20,30],\"c2\":[40,50,60],\"c3\":[70,80,90],\"c4\":[100,110,120]}\n",
        "Table=pd.DataFrame(data=d)\n",
        "print(Table)\n",
        "print(\"No of Rows:\",Table.shape[0])\n",
        "print(\"No of columns:\",Table.shape[1])"
      ],
      "metadata": {
        "colab": {
          "base_uri": "https://localhost:8080/"
        },
        "id": "pqoKyRhHRcyo",
        "outputId": "fc1f2435-0099-49f1-b213-42665fe0365d"
      },
      "execution_count": 2,
      "outputs": [
        {
          "output_type": "stream",
          "name": "stdout",
          "text": [
            "   c1  c2  c3   c4\n",
            "0  10  40  70  100\n",
            "1  20  50  80  110\n",
            "2  30  60  90  120\n",
            "No of Rows: 3\n",
            "No of columns: 4\n"
          ]
        }
      ]
    },
    {
      "cell_type": "markdown",
      "source": [
        "Question 2"
      ],
      "metadata": {
        "id": "PMf9VMFcRqn-"
      }
    },
    {
      "cell_type": "code",
      "source": [
        "Table2=pd.read_csv(\"data.csv\")\n",
        "print(\"The Given data is:\")\n",
        "print(Table2)\n",
        "print(\"The first 5 rows data is:\")\n",
        "print(Table2.head(5))\n",
        "Table2.dropna(axis=0,inplace=True)\n",
        "print(\"After removing null& error values:\")\n",
        "print(Table2)\n",
        "print(\"From given data the Final Analysis is given by:\")\n",
        "print(Table2.describe())"
      ],
      "metadata": {
        "colab": {
          "base_uri": "https://localhost:8080/"
        },
        "id": "7LQg31EPRtKy",
        "outputId": "881ef206-8799-4b28-bba1-14b945e1a0f4"
      },
      "execution_count": 3,
      "outputs": [
        {
          "output_type": "stream",
          "name": "stdout",
          "text": [
            "The Given data is:\n",
            "       Price  Area                     Location  No. of Bedrooms  Gymnasium  \\\n",
            "0    6968000  1340                     Nizampet              2.0        1.0   \n",
            "1   29000000  3498                  Hitech City              4.0        1.0   \n",
            "2    6590000  1318                    Manikonda              2.0        1.0   \n",
            "3    5739000  1295                        Alwal              3.0        0.0   \n",
            "4    5679000  1145                   Kukatpally              2.0        0.0   \n",
            "5    6099000  1230                     Nizampet              2.0        0.0   \n",
            "6    7000000  1350                    Manikonda              2.0        0.0   \n",
            "7    4198000  1400                   Gachibowli              3.0        1.0   \n",
            "8    9900000  2240                     Tellapur              NaN        NaN   \n",
            "9    9800000  1520                   Gachibowli              2.0        0.0   \n",
            "10   8903000  1535                      Kokapet              3.0        1.0   \n",
            "11   6300000  1150                  Hyder Nagar              2.0        0.0   \n",
            "12   6300000  1285                  Mehdipatnam              2.0        0.0   \n",
            "13   9000000  1897                     Tellapur              3.0        1.0   \n",
            "14  11100000  1725                     Narsingi              3.0        1.0   \n",
            "15  11500000   XYZ  Khajaguda Nanakramguda Road              3.0        NaN   \n",
            "16  10900000  1592                   Kukatpally              3.0        1.0   \n",
            "17   8625000  1150                     Madhapur              2.0        0.0   \n",
            "18   9900000  2240                     Tellapur              3.0        1.0   \n",
            "\n",
            "    SwimmingPool  JoggingTrack  RainWaterHarvesting  IndoorGames  \n",
            "0            1.0           1.0                  1.0          1.0  \n",
            "1            1.0           1.0                  1.0          1.0  \n",
            "2            0.0           0.0                  0.0          1.0  \n",
            "3            0.0           0.0                  0.0          0.0  \n",
            "4            0.0           0.0                  0.0          0.0  \n",
            "5            0.0           0.0                  0.0          0.0  \n",
            "6            0.0           0.0                  0.0          0.0  \n",
            "7            1.0           0.0                  0.0          0.0  \n",
            "8            NaN           0.0                  0.0          1.0  \n",
            "9            0.0           0.0                  0.0          0.0  \n",
            "10           1.0           1.0                  1.0          1.0  \n",
            "11           0.0           0.0                  0.0          0.0  \n",
            "12           0.0           NaN                  NaN          NaN  \n",
            "13           1.0           1.0                  1.0          1.0  \n",
            "14           1.0           1.0                  0.0          1.0  \n",
            "15           NaN           0.0                  0.0          0.0  \n",
            "16           1.0           0.0                  0.0          0.0  \n",
            "17           0.0           0.0                  0.0          0.0  \n",
            "18           1.0           0.0                  0.0          1.0  \n",
            "The first 5 rows data is:\n",
            "      Price  Area     Location  No. of Bedrooms  Gymnasium  SwimmingPool  \\\n",
            "0   6968000  1340     Nizampet              2.0        1.0           1.0   \n",
            "1  29000000  3498  Hitech City              4.0        1.0           1.0   \n",
            "2   6590000  1318    Manikonda              2.0        1.0           0.0   \n",
            "3   5739000  1295        Alwal              3.0        0.0           0.0   \n",
            "4   5679000  1145   Kukatpally              2.0        0.0           0.0   \n",
            "\n",
            "   JoggingTrack  RainWaterHarvesting  IndoorGames  \n",
            "0           1.0                  1.0          1.0  \n",
            "1           1.0                  1.0          1.0  \n",
            "2           0.0                  0.0          1.0  \n",
            "3           0.0                  0.0          0.0  \n",
            "4           0.0                  0.0          0.0  \n",
            "After removing null& error values:\n",
            "       Price  Area     Location  No. of Bedrooms  Gymnasium  SwimmingPool  \\\n",
            "0    6968000  1340     Nizampet              2.0        1.0           1.0   \n",
            "1   29000000  3498  Hitech City              4.0        1.0           1.0   \n",
            "2    6590000  1318    Manikonda              2.0        1.0           0.0   \n",
            "3    5739000  1295        Alwal              3.0        0.0           0.0   \n",
            "4    5679000  1145   Kukatpally              2.0        0.0           0.0   \n",
            "5    6099000  1230     Nizampet              2.0        0.0           0.0   \n",
            "6    7000000  1350    Manikonda              2.0        0.0           0.0   \n",
            "7    4198000  1400   Gachibowli              3.0        1.0           1.0   \n",
            "9    9800000  1520   Gachibowli              2.0        0.0           0.0   \n",
            "10   8903000  1535      Kokapet              3.0        1.0           1.0   \n",
            "11   6300000  1150  Hyder Nagar              2.0        0.0           0.0   \n",
            "13   9000000  1897     Tellapur              3.0        1.0           1.0   \n",
            "14  11100000  1725     Narsingi              3.0        1.0           1.0   \n",
            "16  10900000  1592   Kukatpally              3.0        1.0           1.0   \n",
            "17   8625000  1150     Madhapur              2.0        0.0           0.0   \n",
            "18   9900000  2240     Tellapur              3.0        1.0           1.0   \n",
            "\n",
            "    JoggingTrack  RainWaterHarvesting  IndoorGames  \n",
            "0            1.0                  1.0          1.0  \n",
            "1            1.0                  1.0          1.0  \n",
            "2            0.0                  0.0          1.0  \n",
            "3            0.0                  0.0          0.0  \n",
            "4            0.0                  0.0          0.0  \n",
            "5            0.0                  0.0          0.0  \n",
            "6            0.0                  0.0          0.0  \n",
            "7            0.0                  0.0          0.0  \n",
            "9            0.0                  0.0          0.0  \n",
            "10           1.0                  1.0          1.0  \n",
            "11           0.0                  0.0          0.0  \n",
            "13           1.0                  1.0          1.0  \n",
            "14           1.0                  0.0          1.0  \n",
            "16           0.0                  0.0          0.0  \n",
            "17           0.0                  0.0          0.0  \n",
            "18           0.0                  0.0          1.0  \n",
            "From given data the Final Analysis is given by:\n",
            "              Price  No. of Bedrooms  Gymnasium  SwimmingPool  JoggingTrack  \\\n",
            "count  1.600000e+01        16.000000  16.000000     16.000000     16.000000   \n",
            "mean   9.112562e+06         2.562500   0.562500      0.500000      0.312500   \n",
            "std    5.679100e+06         0.629153   0.512348      0.516398      0.478714   \n",
            "min    4.198000e+06         2.000000   0.000000      0.000000      0.000000   \n",
            "25%    6.249750e+06         2.000000   0.000000      0.000000      0.000000   \n",
            "50%    7.812500e+06         2.500000   1.000000      0.500000      0.000000   \n",
            "75%    9.825000e+06         3.000000   1.000000      1.000000      1.000000   \n",
            "max    2.900000e+07         4.000000   1.000000      1.000000      1.000000   \n",
            "\n",
            "       RainWaterHarvesting  IndoorGames  \n",
            "count            16.000000    16.000000  \n",
            "mean              0.250000     0.437500  \n",
            "std               0.447214     0.512348  \n",
            "min               0.000000     0.000000  \n",
            "25%               0.000000     0.000000  \n",
            "50%               0.000000     0.000000  \n",
            "75%               0.250000     1.000000  \n",
            "max               1.000000     1.000000  \n"
          ]
        }
      ]
    }
  ]
}